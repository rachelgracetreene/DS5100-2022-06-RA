{
 "cells": [
  {
   "cell_type": "code",
   "execution_count": 27,
   "id": "dedf14df-8145-4404-9247-015703f6ccba",
   "metadata": {},
   "outputs": [
    {
     "name": "stdout",
     "output_type": "stream",
     "text": [
      "Hi my name is Rachel\n"
     ]
    }
   ],
   "source": [
    "import MyNameIs.mynameis as test # MyNameIs - name of module (folder) | mynameis - name of .py file\n",
    "\n",
    "myobject = test.MyNameIs('Rachel') # instantiate object of MyNameIs class\n",
    "myobject.printname() # call method from MyNameIs class on MyNameIs"
   ]
  }
 ],
 "metadata": {
  "kernelspec": {
   "display_name": "Python 3 (ipykernel)",
   "language": "python",
   "name": "python3"
  },
  "language_info": {
   "codemirror_mode": {
    "name": "ipython",
    "version": 3
   },
   "file_extension": ".py",
   "mimetype": "text/x-python",
   "name": "python",
   "nbconvert_exporter": "python",
   "pygments_lexer": "ipython3",
   "version": "3.9.12"
  }
 },
 "nbformat": 4,
 "nbformat_minor": 5
}
