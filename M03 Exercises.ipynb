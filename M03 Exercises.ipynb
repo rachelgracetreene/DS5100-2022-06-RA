{
 "cells": [
  {
   "cell_type": "markdown",
   "id": "068f25c1-d5ae-4edc-b95f-4d812ad6f422",
   "metadata": {},
   "source": [
    "# M03 Exercises\n",
    "# Rachel Grace (driver) and Eve Schoenrock (navigator)"
   ]
  },
  {
   "cell_type": "markdown",
   "id": "d935fd0e-640a-4855-af18-68f4ed76dc9a",
   "metadata": {
    "tags": []
   },
   "source": [
    "##### Exercise 3.1"
   ]
  },
  {
   "cell_type": "code",
   "execution_count": 2,
   "id": "1fbe6b99-4f0c-4866-9ce5-c88d8641339f",
   "metadata": {},
   "outputs": [
    {
     "name": "stdout",
     "output_type": "stream",
     "text": [
      "bucket 4\n"
     ]
    }
   ],
   "source": [
    "# Nothing prints because none of the if or elif statements account for val = 5. I would add an else statement like so:\n",
    "\n",
    "val = 5\n",
    "if -10 < val < -5:\n",
    "    print('bucket 1')\n",
    "if -5 <= val < -2:\n",
    "    print('bucket 2')\n",
    "elif val == -2:\n",
    "    print('bucket 3')\n",
    "else:\n",
    "    print('bucket 4')"
   ]
  },
  {
   "cell_type": "markdown",
   "id": "721acb39-60c2-47d6-ad10-76b5ac4da1ff",
   "metadata": {},
   "source": [
    "##### Exercise 3.3"
   ]
  }
 ],
 "metadata": {
  "kernelspec": {
   "display_name": "Python 3 (ipykernel)",
   "language": "python",
   "name": "python3"
  },
  "language_info": {
   "codemirror_mode": {
    "name": "ipython",
    "version": 3
   },
   "file_extension": ".py",
   "mimetype": "text/x-python",
   "name": "python",
   "nbconvert_exporter": "python",
   "pygments_lexer": "ipython3",
   "version": "3.9.12"
  }
 },
 "nbformat": 4,
 "nbformat_minor": 5
}
