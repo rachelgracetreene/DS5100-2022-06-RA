{
 "cells": [
  {
   "cell_type": "markdown",
   "id": "068f25c1-d5ae-4edc-b95f-4d812ad6f422",
   "metadata": {},
   "source": [
    "# M03 Exercises\n",
    "# Rachel Grace (driver) and Eve Schoenrock (navigator)"
   ]
  },
  {
   "cell_type": "markdown",
   "id": "d935fd0e-640a-4855-af18-68f4ed76dc9a",
   "metadata": {
    "tags": []
   },
   "source": [
    "##### Exercise 3.1"
   ]
  },
  {
   "cell_type": "code",
   "execution_count": 2,
   "id": "1fbe6b99-4f0c-4866-9ce5-c88d8641339f",
   "metadata": {},
   "outputs": [
    {
     "name": "stdout",
     "output_type": "stream",
     "text": [
      "bucket 4\n"
     ]
    }
   ],
   "source": [
    "# Nothing prints because none of the if or elif statements account for val = 5. I would add an else statement like so:\n",
    "\n",
    "val = 5\n",
    "if -10 < val < -5:\n",
    "    print('bucket 1')\n",
    "if -5 <= val < -2:\n",
    "    print('bucket 2')\n",
    "elif val == -2:\n",
    "    print('bucket 3')\n",
    "else:\n",
    "    print('bucket 4')"
   ]
  },
  {
   "cell_type": "markdown",
   "id": "721acb39-60c2-47d6-ad10-76b5ac4da1ff",
   "metadata": {},
   "source": [
    "##### Exercise 3.3"
   ]
  },
  {
   "cell_type": "code",
   "execution_count": 5,
   "id": "f93fdbbe-4d11-4d54-8831-0a98ceaec555",
   "metadata": {},
   "outputs": [
    {
     "name": "stdout",
     "output_type": "stream",
     "text": [
      "0\n",
      "10\n",
      "20\n",
      "30\n",
      "40\n",
      "50\n",
      "60\n",
      "70\n",
      "80\n",
      "90\n"
     ]
    }
   ],
   "source": [
    "it = 0\n",
    "max_iter = 100\n",
    "while it < max_iter:\n",
    "    if it == 0 or it % 10 == 0:\n",
    "        print(it)\n",
    "    it += 1"
   ]
  },
  {
   "cell_type": "markdown",
   "id": "e0fc5e09-3e82-4117-b109-6100bedcca76",
   "metadata": {},
   "source": [
    "##### Exercise 3.5"
   ]
  },
  {
   "cell_type": "code",
   "execution_count": 12,
   "id": "6679e453-e97e-422c-a544-dbfe2097b388",
   "metadata": {},
   "outputs": [
    {
     "name": "stdout",
     "output_type": "stream",
     "text": [
      "DoG\n",
      "cAt\n",
      "RacHel\n"
     ]
    }
   ],
   "source": [
    "list = ['DoG', 'cAt', 'RacHel']\n",
    "\n",
    "iter_list = iter(list) # makes list an iterable\n",
    "\n",
    "print(next(iter_list)) # prints first item in iterable list\n",
    "print(next(iter_list)) # prints next item in iterable list\n",
    "print(next(iter_list)) # prints next item in iterable list"
   ]
  },
  {
   "cell_type": "markdown",
   "id": "37ccd305-785d-41b4-8fd6-ac3378586278",
   "metadata": {},
   "source": [
    "##### Exercise 3.7"
   ]
  },
  {
   "cell_type": "code",
   "execution_count": 16,
   "id": "26ba55af-3c51-42ae-b917-f5a15d38c50d",
   "metadata": {},
   "outputs": [
    {
     "name": "stdout",
     "output_type": "stream",
     "text": [
      "Tom 84\n",
      "Lisa 68\n",
      "Greg 98\n"
     ]
    }
   ],
   "source": [
    "dict= {'Tom':84, 'Lisa':68, 'Greg':98}\n",
    "\n",
    "for name in dict.keys(): # this also works with a for statement --> for name in dict:\n",
    "    print(name, dict[name])"
   ]
  },
  {
   "cell_type": "markdown",
   "id": "fc235071-fd40-4622-b317-378d85754144",
   "metadata": {},
   "source": [
    "##### Exercise 3.9"
   ]
  },
  {
   "cell_type": "code",
   "execution_count": 22,
   "id": "e8af18be-42c8-4563-9662-12b03e9c17fb",
   "metadata": {},
   "outputs": [
    {
     "name": "stdout",
     "output_type": "stream",
     "text": [
      "['2', '3', '4', '6', '7']\n"
     ]
    }
   ],
   "source": [
    "list7 = ['2', '3', '4', 'hi', 'hello', '6', '7']\n",
    "\n",
    "numbers_list7 = print([val for val in list7 if val.isdigit()]) # expression (print val) + condition (for val in list7 if val is a digit)"
   ]
  },
  {
   "cell_type": "code",
   "execution_count": null,
   "id": "ba88e140-a835-47ef-912d-2b3e296e2e99",
   "metadata": {},
   "outputs": [],
   "source": []
  }
 ],
 "metadata": {
  "kernelspec": {
   "display_name": "Python 3 (ipykernel)",
   "language": "python",
   "name": "python3"
  },
  "language_info": {
   "codemirror_mode": {
    "name": "ipython",
    "version": 3
   },
   "file_extension": ".py",
   "mimetype": "text/x-python",
   "name": "python",
   "nbconvert_exporter": "python",
   "pygments_lexer": "ipython3",
   "version": "3.9.12"
  }
 },
 "nbformat": 4,
 "nbformat_minor": 5
}
