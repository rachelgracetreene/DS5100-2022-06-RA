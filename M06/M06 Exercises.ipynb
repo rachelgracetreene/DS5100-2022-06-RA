{
 "cells": [
  {
   "cell_type": "markdown",
   "id": "a0fee492-becd-4c59-ad26-0f4d471ad941",
   "metadata": {},
   "source": [
    "### M06 Exercises\n",
    "Rachel Grace and Matt Manner"
   ]
  },
  {
   "cell_type": "markdown",
   "id": "aa59346d-2ebf-4eef-acd8-49f79ef62c92",
   "metadata": {},
   "source": [
    "Exercise 6.1"
   ]
  },
  {
   "cell_type": "code",
   "execution_count": 6,
   "id": "3838f316-6712-481f-9a83-51c559ddf0b9",
   "metadata": {},
   "outputs": [
    {
     "name": "stdout",
     "output_type": "stream",
     "text": [
      "runtime: 0.0159604549407959\n"
     ]
    }
   ],
   "source": [
    "import time\n",
    "\n",
    "t0 = time.time()\n",
    "\n",
    "my_list = []\n",
    "\n",
    "for i in range(100001):\n",
    "    if i % 2 == 0:\n",
    "        my_list.append(i)\n",
    "    else:\n",
    "        my_list.append(-1 * i)\n",
    "\n",
    "t1 = time.time()\n",
    "t_delta = t1 - t0\n",
    "print('runtime:', t_delta)"
   ]
  },
  {
   "cell_type": "markdown",
   "id": "66a18332-7a26-4d2c-b0b1-706b37a6ff0a",
   "metadata": {},
   "source": [
    "Exercise 6.3"
   ]
  },
  {
   "cell_type": "code",
   "execution_count": 22,
   "id": "a2ab02c5-3c1e-4efa-8736-f09070dca9f0",
   "metadata": {},
   "outputs": [
    {
     "name": "stdout",
     "output_type": "stream",
     "text": [
      "[,2, ,1, ,3, ,3, ,2, ,5, ,4, ,3, ,4, ,1,]\n"
     ]
    }
   ],
   "source": [
    "import numpy as np\n",
    "\n",
    "data = np.random.randint(1, 7, 10)\n",
    "\n",
    "data = np.str_(data)\n",
    "\n",
    "print(','.join(data))"
   ]
  },
  {
   "cell_type": "markdown",
   "id": "88a8c274-4ac8-4ab1-ba8b-6d509b31cd3c",
   "metadata": {},
   "source": [
    "Exercise 6.5"
   ]
  },
  {
   "cell_type": "code",
   "execution_count": 30,
   "id": "d0b88491-8617-4e72-b8d5-6c653f4bef53",
   "metadata": {},
   "outputs": [
    {
     "data": {
      "image/png": "[encoded data removed]",
      "text/plain": [
       "<Figure size 432x288 with 1 Axes>"
      ]
     },
     "metadata": {
      "needs_background": "light"
     },
     "output_type": "display_data"
    }
   ],
   "source": [
    "randoms = np.random.randint(1, 22, 5)\n",
    "arr = np.array(randoms)\n",
    "\n",
    "from matplotlib.pyplot import hist\n",
    "\n",
    "hist(arr); # semicolon gets rid of extra info at the top of the histogram"
   ]
  },
  {
   "cell_type": "markdown",
   "id": "aa5e3306-6c8e-491f-8236-a599e45984fd",
   "metadata": {},
   "source": [
    "Exercise 6.7"
   ]
  },
  {
   "cell_type": "code",
   "execution_count": 32,
   "id": "25ca3c0b-e85b-462e-b45e-a02378fef961",
   "metadata": {},
   "outputs": [
    {
     "data": {
      "text/plain": [
       "array([[ 1.3963633 ,  3.49675987, -0.33338124],\n",
       "       [ 3.91122916, -0.05654741, -0.46547291]])"
      ]
     },
     "execution_count": 32,
     "metadata": {},
     "output_type": "execute_result"
    }
   ],
   "source": [
    "data = np.random.randn(2,3)\n",
    "data * 2"
   ]
  },
  {
   "cell_type": "markdown",
   "id": "390a3295-0901-49ce-9906-229d4c7fbb20",
   "metadata": {},
   "source": [
    "Exercise 6.9"
   ]
  },
  {
   "cell_type": "code",
   "execution_count": 33,
   "id": "231736f8-9fc4-481d-8931-a6e7746671a3",
   "metadata": {},
   "outputs": [
    {
     "data": {
      "text/plain": [
       "array([[  1.43229201,   0.57195806,  -5.99913777],\n",
       "       [  0.5113482 , -35.36855486,  -4.29670546]])"
      ]
     },
     "execution_count": 33,
     "metadata": {},
     "output_type": "execute_result"
    }
   ],
   "source": [
    "1 / data"
   ]
  },
  {
   "cell_type": "markdown",
   "id": "95f8c1d5-9760-44f6-af4a-7129a294dc08",
   "metadata": {},
   "source": [
    "Exercise 9.11"
   ]
  },
  {
   "cell_type": "code",
   "execution_count": 35,
   "id": "891d9a4e-b6eb-4b12-853f-81418f7db86c",
   "metadata": {},
   "outputs": [
    {
     "name": "stdout",
     "output_type": "stream",
     "text": [
      "[[1. 0. 0. 0.]\n",
      " [0. 1. 0. 0.]\n",
      " [0. 0. 1. 0.]\n",
      " [0. 0. 0. 1.]]\n"
     ]
    }
   ],
   "source": [
    "identity = np.identity(4)\n",
    "print(identity)"
   ]
  },
  {
   "cell_type": "markdown",
   "id": "edecee69-5157-44dd-9830-f24bcc199edc",
   "metadata": {},
   "source": [
    "Exercise 6.13"
   ]
  },
  {
   "cell_type": "code",
   "execution_count": 36,
   "id": "b5aa5d38-a3ee-4049-80c6-567fd5a2680a",
   "metadata": {},
   "outputs": [
    {
     "data": {
      "text/plain": [
       "array([1.80374472, 0.76114927, 2.85892785, 1.10029593, 1.52895421,\n",
       "       0.57748357, 0.75593096, 0.33977708, 1.43104385, 0.17747654,\n",
       "       0.7005232 , 0.57698339, 1.8658944 , 1.44526654, 1.22784836,\n",
       "       0.9242631 , 0.78520603, 2.55194991, 0.94480137, 1.44609894,\n",
       "       0.40640934, 1.65294507, 1.13769778, 0.21887057])"
      ]
     },
     "execution_count": 36,
     "metadata": {},
     "output_type": "execute_result"
    }
   ],
   "source": [
    "data2 = np.random.randn(1, 11, 5)\n",
    "data2[data2 > 0.15]"
   ]
  },
  {
   "cell_type": "code",
   "execution_count": null,
   "id": "4bda6732-19fd-4419-877e-cdfe8d4584f0",
   "metadata": {},
   "outputs": [],
   "source": []
  }
 ],
 "metadata": {
  "kernelspec": {
   "display_name": "Python 3 (ipykernel)",
   "language": "python",
   "name": "python3"
  },
  "language_info": {
   "codemirror_mode": {
    "name": "ipython",
    "version": 3
   },
   "file_extension": ".py",
   "mimetype": "text/x-python",
   "name": "python",
   "nbconvert_exporter": "python",
   "pygments_lexer": "ipython3",
   "version": "3.9.12"
  }
 },
 "nbformat": 4,
 "nbformat_minor": 5
}
