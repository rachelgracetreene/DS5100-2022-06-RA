{
 "cells": [
  {
   "cell_type": "markdown",
   "id": "1a2b448d-a22c-43ad-8dca-b70e244739ce",
   "metadata": {},
   "source": [
    "M06 Exercises Day 2\n",
    "\n",
    "Rachel Grace, Davi Meran\n",
    "\n",
    "Exercise 1"
   ]
  },
  {
   "cell_type": "code",
   "execution_count": 31,
   "id": "bb8d1342-aa8f-42a4-93fc-8dc3ca97f345",
   "metadata": {},
   "outputs": [],
   "source": [
    "import numpy as np\n",
    "import random\n",
    "def rollDie(n, m = 6, sort = False):\n",
    "    lst = [random.randint(0, m) for x in range(n)]\n",
    "    if sort == False:\n",
    "        return lst.sort(reverse = False)\n",
    "    else:\n",
    "        return lst.sort(reverse = True)\n",
    "    return lst\n",
    "rollDie(8,6,True)"
   ]
  },
  {
   "cell_type": "code",
   "execution_count": 30,
   "id": "6b169326-d308-4ce2-a9c7-174330c3a1d9",
   "metadata": {},
   "outputs": [
    {
     "name": "stdout",
     "output_type": "stream",
     "text": [
      "None\n"
     ]
    }
   ],
   "source": [
    "output = rollDie(8)\n",
    "print(output)"
   ]
  },
  {
   "cell_type": "markdown",
   "id": "2ee6129c-f7dc-424f-8556-0cf05a60287f",
   "metadata": {},
   "source": [
    "Exercise 3"
   ]
  },
  {
   "cell_type": "code",
   "execution_count": 34,
   "id": "ff3c6407-4a3d-47eb-b193-035a48bc2704",
   "metadata": {},
   "outputs": [
    {
     "data": {
      "text/plain": [
       "1.6875389974302314e-15"
      ]
     },
     "execution_count": 34,
     "metadata": {},
     "output_type": "execute_result"
    }
   ],
   "source": [
    "a = np.array([[1, 2, 3], [3, 4, 5], [5, 6, 7]])\n",
    "np.linalg.det(a)"
   ]
  },
  {
   "cell_type": "code",
   "execution_count": 36,
   "id": "8b3ff1e2-2c71-4d99-90c2-8853c89e6236",
   "metadata": {},
   "outputs": [
    {
     "data": {
      "text/plain": [
       "1.0"
      ]
     },
     "execution_count": 36,
     "metadata": {},
     "output_type": "execute_result"
    }
   ],
   "source": [
    "b = np.array([[1,0,0],[0,1,0],[0,0,1]])\n",
    "np.linalg.det(b)"
   ]
  },
  {
   "cell_type": "code",
   "execution_count": 38,
   "id": "54f80da7-aa82-4b11-aa4b-fb213b9c5bfe",
   "metadata": {},
   "outputs": [
    {
     "data": {
      "text/plain": [
       "0.0"
      ]
     },
     "execution_count": 38,
     "metadata": {},
     "output_type": "execute_result"
    }
   ],
   "source": [
    "c = np.array([[1, 2], [1, 2]])\n",
    "np.linalg.det(c)"
   ]
  },
  {
   "cell_type": "markdown",
   "id": "f308f584-978e-41d2-bd11-f4b8e0813640",
   "metadata": {},
   "source": [
    "Exercise 4"
   ]
  },
  {
   "cell_type": "code",
   "execution_count": 43,
   "id": "8bbeedbe-c88b-4288-9d05-8a86bd3e0c05",
   "metadata": {},
   "outputs": [
    {
     "data": {
      "text/plain": [
       "(array([ 1.29282032e+01, -9.28203230e-01,  7.58225307e-16]),\n",
       " array([[-0.28932501, -0.80222426,  0.40824829],\n",
       "        [-0.53988782, -0.10747767, -0.81649658],\n",
       "        [-0.79045062,  0.58726892,  0.40824829]]))"
      ]
     },
     "execution_count": 43,
     "metadata": {},
     "output_type": "execute_result"
    }
   ],
   "source": [
    "np.linalg.eig(a)"
   ]
  },
  {
   "cell_type": "code",
   "execution_count": 40,
   "id": "40eb9330-a402-4d28-b2e0-f612a705b470",
   "metadata": {},
   "outputs": [
    {
     "data": {
      "text/plain": [
       "array([ 1.29282032e+01, -9.28203230e-01,  7.58225307e-16])"
      ]
     },
     "execution_count": 40,
     "metadata": {},
     "output_type": "execute_result"
    }
   ],
   "source": [
    "np.linalg.eigvals(a)"
   ]
  },
  {
   "cell_type": "code",
   "execution_count": 44,
   "id": "7d675b5e-5233-42f9-ae44-a129919c1812",
   "metadata": {},
   "outputs": [
    {
     "data": {
      "text/plain": [
       "(array([1., 1., 1.]),\n",
       " array([[1., 0., 0.],\n",
       "        [0., 1., 0.],\n",
       "        [0., 0., 1.]]))"
      ]
     },
     "execution_count": 44,
     "metadata": {},
     "output_type": "execute_result"
    }
   ],
   "source": [
    "np.linalg.eig(b)"
   ]
  },
  {
   "cell_type": "code",
   "execution_count": 42,
   "id": "d4beedd5-0bb9-462d-b6db-ff7a5a898f32",
   "metadata": {},
   "outputs": [
    {
     "data": {
      "text/plain": [
       "array([1., 1., 1.])"
      ]
     },
     "execution_count": 42,
     "metadata": {},
     "output_type": "execute_result"
    }
   ],
   "source": [
    "np.linalg.eigvals(b)"
   ]
  },
  {
   "cell_type": "markdown",
   "id": "f5094b1e-d2a1-46d6-9495-130a7186823e",
   "metadata": {},
   "source": [
    "Exercise 5"
   ]
  },
  {
   "cell_type": "code",
   "execution_count": 47,
   "id": "662f92f6-2b59-4dc4-93d9-60bd67dfa2a1",
   "metadata": {},
   "outputs": [
    {
     "data": {
      "text/plain": [
       "array([[19, 22],\n",
       "       [43, 50]])"
      ]
     },
     "execution_count": 47,
     "metadata": {},
     "output_type": "execute_result"
    }
   ],
   "source": [
    "p = [[1, 2], [3, 4]]\n",
    "q = [[5, 6], [7, 8]]\n",
    "np.dot(p, q)"
   ]
  },
  {
   "cell_type": "markdown",
   "id": "67ba9d1e-8b4f-4b42-bd4c-bd52a065d2d5",
   "metadata": {},
   "source": [
    "Exercise"
   ]
  },
  {
   "cell_type": "code",
   "execution_count": 52,
   "id": "6bd66e05-6fcf-40c5-947c-a14cd93e75a5",
   "metadata": {},
   "outputs": [
    {
     "name": "stdout",
     "output_type": "stream",
     "text": [
      "[5, 5]\n"
     ]
    }
   ],
   "source": [
    "arr = [[0,1,2,3,4,5],[6,7,8,9,10,11]]\n",
    "#dif0 = np.amax(arr[0]) - np.amin(arr[0])\n",
    "#dif1 = np.amax(arr[1]) - np.amin(arr[1])\n",
    "#arrlist = [dif0, dif1]\n",
    "arrlist = [np.amax(arr[i]) - np.amin(arr[i]) for i in range(len(arr))]\n",
    "print(arrlist)"
   ]
  },
  {
   "cell_type": "markdown",
   "id": "84435615-777c-48e7-a500-e4c114d5c5b9",
   "metadata": {},
   "source": [
    "Exercise"
   ]
  },
  {
   "cell_type": "code",
   "execution_count": 54,
   "id": "c5b5e8b6-a26d-418e-b5e8-4178714a1faf",
   "metadata": {},
   "outputs": [
    {
     "data": {
      "text/plain": [
       "5.477225575051661"
      ]
     },
     "execution_count": 54,
     "metadata": {},
     "output_type": "execute_result"
    }
   ],
   "source": [
    "new_matrix = [[1, 2], [3, 4]]\n",
    "np.linalg.norm(new_matrix)"
   ]
  },
  {
   "cell_type": "markdown",
   "id": "b2c29cad-4d28-4cbb-a685-99195c52d27c",
   "metadata": {},
   "source": [
    "Exercise"
   ]
  },
  {
   "cell_type": "code",
   "execution_count": 56,
   "id": "d5c6200a-5880-4e31-a213-7f7eba8ea921",
   "metadata": {},
   "outputs": [
    {
     "data": {
      "text/plain": [
       "(array([[-0.31622777, -0.9486833 ],\n",
       "        [-0.9486833 ,  0.31622777]]),\n",
       " array([[-3.16227766, -4.42718872],\n",
       "        [ 0.        , -0.63245553]]))"
      ]
     },
     "execution_count": 56,
     "metadata": {},
     "output_type": "execute_result"
    }
   ],
   "source": [
    "np.linalg.qr(new_matrix)"
   ]
  },
  {
   "cell_type": "code",
   "execution_count": null,
   "id": "5b820259-a007-40ac-a022-ba71651c4dcb",
   "metadata": {},
   "outputs": [],
   "source": []
  }
 ],
 "metadata": {
  "kernelspec": {
   "display_name": "Python 3 (ipykernel)",
   "language": "python",
   "name": "python3"
  },
  "language_info": {
   "codemirror_mode": {
    "name": "ipython",
    "version": 3
   },
   "file_extension": ".py",
   "mimetype": "text/x-python",
   "name": "python",
   "nbconvert_exporter": "python",
   "pygments_lexer": "ipython3",
   "version": "3.9.12"
  }
 },
 "nbformat": 4,
 "nbformat_minor": 5
}
