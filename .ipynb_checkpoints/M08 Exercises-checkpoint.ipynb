{
 "cells": [
  {
   "cell_type": "markdown",
   "id": "4cc44dce-3525-4f95-9694-a36480a27262",
   "metadata": {},
   "source": [
    "# M08 Exercises\n",
    "\n",
    "Rachel Grace | Eve Schoenrock"
   ]
  },
  {
   "cell_type": "markdown",
   "id": "3a54b5cb-4fa7-49ff-9d21-b0057f03f3cc",
   "metadata": {},
   "source": [
    "Execise 8.3"
   ]
  },
  {
   "cell_type": "code",
   "execution_count": 62,
   "id": "8a1affcf-3051-467b-9bff-6d8f9540aa7e",
   "metadata": {},
   "outputs": [
    {
     "name": "stderr",
     "output_type": "stream",
     "text": [
      "C:\\Users\\Rachel\\AppData\\Local\\Temp\\ipykernel_14440\\1728438850.py:5: FutureWarning: The default dtype for empty Series will be 'object' instead of 'float64' in a future version. Specify a dtype explicitly to silence this warning.\n",
      "  gradesList = pd.Series()\n"
     ]
    }
   ],
   "source": [
    "import pandas as pd\n",
    "import numpy as np\n",
    "\n",
    "class Student():\n",
    "    gradesList = pd.Series()\n",
    "    \n",
    "    def __init__(self, fullName, userID):\n",
    "        self.fullName = fullName\n",
    "        self.userID = userID\n",
    "        \n",
    "    def add_assignment(self, as_code, new_grade):\n",
    "        self.gradesList.loc[as_code] = new_grade\n",
    "        return self.gradesList\n",
    "    \n",
    "    def plot_grades(self):\n",
    "        grades_chart = self.gradesList.plot.bar(title=[self.fullName + ' ' + str(self.userID)], subplots=True, rot=0);\n",
    "        return grades_chart"
   ]
  },
  {
   "cell_type": "code",
   "execution_count": 63,
   "id": "e9e5a236-f151-496a-b650-a0459eab8624",
   "metadata": {},
   "outputs": [],
   "source": [
    "mystudent = Student('Rachel', 1)"
   ]
  },
  {
   "cell_type": "code",
   "execution_count": 64,
   "id": "33124173-7406-4eda-9dba-89c37fd28d4c",
   "metadata": {},
   "outputs": [
    {
     "data": {
      "text/plain": [
       "HW01    100\n",
       "dtype: int64"
      ]
     },
     "execution_count": 64,
     "metadata": {},
     "output_type": "execute_result"
    }
   ],
   "source": [
    "mystudent.add_assignment('HW01', 100)"
   ]
  },
  {
   "cell_type": "code",
   "execution_count": 67,
   "id": "a76a54f4-190e-45cc-9c48-864a71ee77b2",
   "metadata": {},
   "outputs": [
    {
     "data": {
      "text/plain": [
       "HW01    100\n",
       "HW02     90\n",
       "HW03     80\n",
       "HW04     70\n",
       "dtype: int64"
      ]
     },
     "execution_count": 67,
     "metadata": {},
     "output_type": "execute_result"
    }
   ],
   "source": [
    "mystudent.add_assignment('HW02', 90)\n",
    "mystudent.add_assignment('HW03', 80)\n",
    "mystudent.add_assignment('HW04', 70)"
   ]
  },
  {
   "cell_type": "code",
   "execution_count": 68,
   "id": "9348209c-be7e-4058-81ce-6b38e2aadbef",
   "metadata": {},
   "outputs": [
    {
     "data": {
      "text/plain": [
       "array([<AxesSubplot:title={'center':'Rachel 1'}>], dtype=object)"
      ]
     },
     "execution_count": 68,
     "metadata": {},
     "output_type": "execute_result"
    },
    {
     "data": {
      "image/png": "[encoded data removed]",
      "text/plain": [
       "<Figure size 432x288 with 1 Axes>"
      ]
     },
     "metadata": {
      "needs_background": "light"
     },
     "output_type": "display_data"
    }
   ],
   "source": [
    "mystudent.plot_grades()"
   ]
  },
  {
   "cell_type": "markdown",
   "id": "d33d22a2-6a92-412e-9f94-2e76003a7e70",
   "metadata": {},
   "source": [
    "Exercise 8.6"
   ]
  },
  {
   "cell_type": "code",
   "execution_count": 71,
   "id": "191132c5-12c2-4ba8-bf34-f8710d0afbe1",
   "metadata": {},
   "outputs": [],
   "source": [
    "import math\n",
    "\n",
    "class Circle:\n",
    "    def __init__(self, radius):\n",
    "        self.radius = radius\n",
    "        \n",
    "    def area(self):\n",
    "        return math.pi * (self.radius ** 2)\n",
    "    \n",
    "    def perimeter(self):\n",
    "        return 2 * math.pi * self.radius"
   ]
  },
  {
   "cell_type": "code",
   "execution_count": 72,
   "id": "0042d2ec-bd91-4223-b98a-fe6022724f8a",
   "metadata": {},
   "outputs": [],
   "source": [
    "mycircle = Circle(5)"
   ]
  },
  {
   "cell_type": "code",
   "execution_count": 73,
   "id": "ffc2bf3d-d0d9-449c-8442-81e149c79abf",
   "metadata": {},
   "outputs": [
    {
     "data": {
      "text/plain": [
       "78.53981633974483"
      ]
     },
     "execution_count": 73,
     "metadata": {},
     "output_type": "execute_result"
    }
   ],
   "source": [
    "mycircle.area()"
   ]
  },
  {
   "cell_type": "code",
   "execution_count": 75,
   "id": "f2be47bf-9478-4ea5-8a04-369c418e5f07",
   "metadata": {},
   "outputs": [
    {
     "data": {
      "text/plain": [
       "31.41592653589793"
      ]
     },
     "execution_count": 75,
     "metadata": {},
     "output_type": "execute_result"
    }
   ],
   "source": [
    "mycircle.perimeter()"
   ]
  },
  {
   "cell_type": "markdown",
   "id": "fb69e33b-6f0f-4571-9171-fb5cd5c2488d",
   "metadata": {},
   "source": [
    "Static version"
   ]
  },
  {
   "cell_type": "code",
   "execution_count": 76,
   "id": "c6a794a8-5b8a-4ace-985f-2a8776892506",
   "metadata": {},
   "outputs": [],
   "source": [
    "import math\n",
    "\n",
    "class Circle2:\n",
    "        \n",
    "    def area(radius):\n",
    "        return math.pi * (radius ** 2)\n",
    "    \n",
    "    def perimeter(radius):\n",
    "        return 2 * math.pi * radius"
   ]
  },
  {
   "cell_type": "code",
   "execution_count": 77,
   "id": "c73dc805-6883-4c16-bbde-91d120d121c2",
   "metadata": {},
   "outputs": [
    {
     "data": {
      "text/plain": [
       "78.53981633974483"
      ]
     },
     "execution_count": 77,
     "metadata": {},
     "output_type": "execute_result"
    }
   ],
   "source": [
    "Circle2.area(5)"
   ]
  },
  {
   "cell_type": "code",
   "execution_count": null,
   "id": "bd683c95-4a88-4ece-af2a-b3e8cddd439a",
   "metadata": {},
   "outputs": [],
   "source": []
  }
 ],
 "metadata": {
  "kernelspec": {
   "display_name": "Python 3 (ipykernel)",
   "language": "python",
   "name": "python3"
  },
  "language_info": {
   "codemirror_mode": {
    "name": "ipython",
    "version": 3
   },
   "file_extension": ".py",
   "mimetype": "text/x-python",
   "name": "python",
   "nbconvert_exporter": "python",
   "pygments_lexer": "ipython3",
   "version": "3.9.12"
  }
 },
 "nbformat": 4,
 "nbformat_minor": 5
}
