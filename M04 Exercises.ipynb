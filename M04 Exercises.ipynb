{
 "cells": [
  {
   "cell_type": "markdown",
   "metadata": {},
   "source": [
    "Rachel Grace and Connor Nickol\n",
    "\n",
    "M04 Exercises\n",
    "\n",
    "6/24/22"
   ]
  },
  {
   "cell_type": "markdown",
   "metadata": {},
   "source": [
    "##### Exercise 4.1"
   ]
  },
  {
   "cell_type": "code",
   "execution_count": 11,
   "metadata": {},
   "outputs": [],
   "source": [
    "def comparelength(str, int):\n",
    "    '''\n",
    "    PURPOSE: This function compares the length between the two inputs (a string and an integer)\n",
    "    \n",
    "    INPUTS:\n",
    "    str   String object\n",
    "    int   Integer object\n",
    "    \n",
    "    OUTPUT:\n",
    "    bool  True if same length; false if not\n",
    "    '''\n",
    "    return len(str) == int"
   ]
  },
  {
   "cell_type": "code",
   "execution_count": 10,
   "metadata": {},
   "outputs": [
    {
     "data": {
      "text/plain": [
       "True"
      ]
     },
     "execution_count": 10,
     "metadata": {},
     "output_type": "execute_result"
    }
   ],
   "source": [
    "comparelength(\"is this text the right length?\", 30)"
   ]
  },
  {
   "cell_type": "markdown",
   "metadata": {},
   "source": [
    "##### Exercise 4.3"
   ]
  },
  {
   "cell_type": "code",
   "execution_count": 23,
   "metadata": {},
   "outputs": [],
   "source": [
    "def word_shortener(word):\n",
    "    '''\n",
    "    PURPOSE: This function takes a word and returns the first and last letter of the word around the number of letters in the middle of the word\n",
    "    \n",
    "    INPUTS:\n",
    "    word    String object\n",
    "    \n",
    "    OUTPUT:\n",
    "    new_word  String object\n",
    "    '''\n",
    "    if isinstance(word, str) and len(word) > 2:\n",
    "        first = word[0]\n",
    "        last = word[-1]\n",
    "        length = len(word) - 2\n",
    "        print(first.upper() + str(length) + last.upper())\n",
    "    elif isinstance(word, str):\n",
    "        print(\"Enter a string longer than 2 characters\")\n",
    "    else:\n",
    "        print(\"Enter a string\")\n",
    "        "
   ]
  },
  {
   "cell_type": "code",
   "execution_count": 16,
   "metadata": {},
   "outputs": [
    {
     "name": "stdout",
     "output_type": "stream",
     "text": [
      "Enter a string longer than 2 characters\n"
     ]
    }
   ],
   "source": [
    "word_shortener('in')"
   ]
  },
  {
   "cell_type": "code",
   "execution_count": 18,
   "metadata": {},
   "outputs": [
    {
     "name": "stdout",
     "output_type": "stream",
     "text": [
      "Enter a string\n"
     ]
    }
   ],
   "source": [
    "word_shortener(5)"
   ]
  },
  {
   "cell_type": "code",
   "execution_count": 25,
   "metadata": {},
   "outputs": [
    {
     "name": "stdout",
     "output_type": "stream",
     "text": [
      "I18N\n"
     ]
    }
   ],
   "source": [
    "word_shortener(\"internationalization\")"
   ]
  },
  {
   "cell_type": "code",
   "execution_count": 27,
   "metadata": {},
   "outputs": [
    {
     "name": "stdout",
     "output_type": "stream",
     "text": [
      "H3O\n"
     ]
    }
   ],
   "source": [
    "word_shortener(\"hello\")"
   ]
  },
  {
   "cell_type": "markdown",
   "metadata": {},
   "source": [
    "##### Exercise 4.6"
   ]
  },
  {
   "cell_type": "code",
   "execution_count": 30,
   "metadata": {},
   "outputs": [],
   "source": [
    "is_in_range = lambda x: x >= 10 and x <= 20"
   ]
  },
  {
   "cell_type": "code",
   "execution_count": 34,
   "metadata": {},
   "outputs": [
    {
     "data": {
      "text/plain": [
       "True"
      ]
     },
     "execution_count": 34,
     "metadata": {},
     "output_type": "execute_result"
    }
   ],
   "source": [
    "is_in_range(15)"
   ]
  }
 ],
 "metadata": {
  "kernelspec": {
   "display_name": "Python 3 (ipykernel)",
   "language": "python",
   "name": "python3"
  },
  "language_info": {
   "codemirror_mode": {
    "name": "ipython",
    "version": 3
   },
   "file_extension": ".py",
   "mimetype": "text/x-python",
   "name": "python",
   "nbconvert_exporter": "python",
   "pygments_lexer": "ipython3",
   "version": "3.9.12"
  }
 },
 "nbformat": 4,
 "nbformat_minor": 4
}
