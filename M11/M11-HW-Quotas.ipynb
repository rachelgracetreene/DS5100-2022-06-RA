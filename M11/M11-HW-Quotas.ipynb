{
 "cells": [
  {
   "cell_type": "markdown",
   "id": "4fe64946-52e1-4bc6-98de-5f283835a28c",
   "metadata": {},
   "source": [
    "# Metadata\n",
    "\n",
    "```\n",
    "Course:  DS 5100\n",
    "Module:  11 R Programming 1\n",
    "Topic:   HW 11 Computing Payoff for a Quota Structure\n",
    "Author:  R.C. Alvarado (adapted)\n",
    "Date:    06 July 2022\n",
    "```"
   ]
  },
  {
   "cell_type": "markdown",
   "id": "edaa17c9-fdfc-46b2-af3c-d90ffb6af88f",
   "metadata": {
    "tags": []
   },
   "source": [
    "# Instructions\n",
    "\n",
    "A salesperson at a large tech firm is faced with a new payment structure. \n",
    "\n",
    "This salesperson has a quarterly quota of $225,000.\n",
    "\n",
    "The payment received follows a progressive schedule with four brackets as follows:\n",
    "1. For the first 40% of quota, the salesperson receives 7% on quota reached\n",
    "2. For the next 30% of quota, the salesperson receives 10% on quota reached\n",
    "3. For the next 20% of quota, the salesperson receives 13% on quota reached\n",
    "4. For the next 10% of quota, the salesperson receives 16% on quota reached\n",
    "\n",
    "For example, if the salesperson is 50% to quota, reaching \\$112,500 of sales, then:\n",
    "- `a` = the first 40% is paid out at 7% (payout = \\$225,000 * 40% * 7%)\n",
    "- `b` = the next 10% is paid out at 10%\n",
    "\n",
    "The total payout to the salesperson would be `a + b`.\n",
    "\n",
    "Notice what does NOT happen: getting to the second bracket does NOT mean the payout is \\$225,000 * 50% * 10%.\n",
    "\n",
    "This schedule represents earnings up to 100% of quota. \n",
    "\n",
    "We ignore sales above 100% here.\n",
    "\n",
    "Given this, the salesperson would like to know how much she would earn if she reaches a given percentage of quarterly quota.\n",
    "\n",
    "Note: The quota structure in this assignment is analogous to how the US tax system works: There are several **brackets** with rate i applied to dollars in bracket i. \n",
    "\n",
    "**TOTAL POINTS: 12**"
   ]
  },
  {
   "cell_type": "markdown",
   "id": "04ae7339-3a44-414d-8019-2e41c5e47c5a",
   "metadata": {},
   "source": [
    "# Task 1 \n",
    "\n",
    "(8 points for a function that returns the correct value.)\n",
    "\n",
    "Write a function to these specifications:\n",
    "1. Takes input: quarterly quota (`225000`)\n",
    "2. Takes input: fraction of quarterly quota reached (`0.8` means 80%)\n",
    "3. Returns the dollar amount earned.\n",
    "\n",
    "Call this function and print the dollar amount earned for argument 2 in increments of 10% in a range between 0% to 100% earned.\n",
    "\n",
    "Hint: Use `if` statements to help compute amounts in each bracket."
   ]
  },
  {
   "cell_type": "code",
   "execution_count": 1,
   "id": "03e1719c-19e7-4e5d-8882-a2372092f138",
   "metadata": {},
   "outputs": [],
   "source": [
    "amountearned <- function(quarterly=225000, fracReached) {\n",
    "    if (fracReached <= .4) {\n",
    "        #amtEarned = fracReached * quarterly\n",
    "        payout = fracReached * .07 * quarterly\n",
    "    }\n",
    "    else if (fracReached > .4 & fracReached <= .7) {\n",
    "        #amtEarned = fracReached * quarterly\n",
    "        payout = ((fracReached - .4) * quarterly * .1) + (.4 * quarterly * .07)\n",
    "    }\n",
    "    else if (fracReached > .7 & fracReached <= .9) {\n",
    "        payout = ((fracReached - .7) * quarterly * .13) + (.3 * quarterly * .1) + (.4 * quarterly * .07)\n",
    "    }\n",
    "    else {\n",
    "        payout = ((fracReached - .9) * quarterly * .16) + (.2 * quarterly * .13) + (.3 * quarterly * .1) + (.4 * quarterly * .07)\n",
    "    }\n",
    "    return(payout)\n",
    "}"
   ]
  },
  {
   "cell_type": "code",
   "execution_count": 2,
   "id": "4873e8e6-c45a-478a-8f5d-2a32aecaa54a",
   "metadata": {},
   "outputs": [
    {
     "name": "stdout",
     "output_type": "stream",
     "text": [
      "[1] 0\n",
      "[1] 1575\n",
      "[1] 3150\n",
      "[1] 4725\n",
      "[1] 6300\n",
      "[1] 8550\n",
      "[1] 10800\n",
      "[1] 13050\n",
      "[1] 15975\n",
      "[1] 18900\n",
      "[1] 22500\n"
     ]
    }
   ],
   "source": [
    "for (i in seq(0, 1, .1)) {\n",
    "    print(amountearned(225000, i))\n",
    "}"
   ]
  },
  {
   "cell_type": "markdown",
   "id": "18eb50c6-10c8-4d06-8aaa-5fb1a9ad56ec",
   "metadata": {
    "tags": []
   },
   "source": [
    "# Task 2 \n",
    "\n",
    "(2 points for a correct graph)\n",
    "\n",
    "Plot the amounts earned (y-axis) versus quarterly quota reached (x-axis)."
   ]
  },
  {
   "cell_type": "code",
   "execution_count": 3,
   "id": "afaf2279-d458-44ca-89c6-2a743649e61c",
   "metadata": {},
   "outputs": [
    {
     "data": {
      "text/html": [
       "<ol class=list-inline>\n",
       "\t<li>0</li>\n",
       "\t<li>1575</li>\n",
       "\t<li>3150</li>\n",
       "\t<li>4725</li>\n",
       "\t<li>6300</li>\n",
       "\t<li>8550</li>\n",
       "\t<li>10800</li>\n",
       "\t<li>13050</li>\n",
       "\t<li>15975</li>\n",
       "\t<li>18900</li>\n",
       "\t<li>22500</li>\n",
       "</ol>\n"
      ],
      "text/latex": [
       "\\begin{enumerate*}\n",
       "\\item 0\n",
       "\\item 1575\n",
       "\\item 3150\n",
       "\\item 4725\n",
       "\\item 6300\n",
       "\\item 8550\n",
       "\\item 10800\n",
       "\\item 13050\n",
       "\\item 15975\n",
       "\\item 18900\n",
       "\\item 22500\n",
       "\\end{enumerate*}\n"
      ],
      "text/markdown": [
       "1. 0\n",
       "2. 1575\n",
       "3. 3150\n",
       "4. 4725\n",
       "5. 6300\n",
       "6. 8550\n",
       "7. 10800\n",
       "8. 13050\n",
       "9. 15975\n",
       "10. 18900\n",
       "11. 22500\n",
       "\n",
       "\n"
      ],
      "text/plain": [
       " [1]     0  1575  3150  4725  6300  8550 10800 13050 15975 18900 22500"
      ]
     },
     "metadata": {},
     "output_type": "display_data"
    }
   ],
   "source": [
    "amountsEarned <- c()\n",
    "for (i in seq(0, 1, .1)) {\n",
    "    amountsEarned <- c(amountsEarned, amountearned(225000, i))\n",
    "}\n",
    "amountsEarned"
   ]
  },
  {
   "cell_type": "code",
   "execution_count": 4,
   "id": "6f21d38c-59c3-43cb-ad7c-74cea621b3af",
   "metadata": {},
   "outputs": [
    {
     "data": {
      "text/html": [
       "<ol class=list-inline>\n",
       "\t<li>0</li>\n",
       "\t<li>0.1</li>\n",
       "\t<li>0.2</li>\n",
       "\t<li>0.3</li>\n",
       "\t<li>0.4</li>\n",
       "\t<li>0.5</li>\n",
       "\t<li>0.6</li>\n",
       "\t<li>0.7</li>\n",
       "\t<li>0.8</li>\n",
       "\t<li>0.9</li>\n",
       "\t<li>1</li>\n",
       "</ol>\n"
      ],
      "text/latex": [
       "\\begin{enumerate*}\n",
       "\\item 0\n",
       "\\item 0.1\n",
       "\\item 0.2\n",
       "\\item 0.3\n",
       "\\item 0.4\n",
       "\\item 0.5\n",
       "\\item 0.6\n",
       "\\item 0.7\n",
       "\\item 0.8\n",
       "\\item 0.9\n",
       "\\item 1\n",
       "\\end{enumerate*}\n"
      ],
      "text/markdown": [
       "1. 0\n",
       "2. 0.1\n",
       "3. 0.2\n",
       "4. 0.3\n",
       "5. 0.4\n",
       "6. 0.5\n",
       "7. 0.6\n",
       "8. 0.7\n",
       "9. 0.8\n",
       "10. 0.9\n",
       "11. 1\n",
       "\n",
       "\n"
      ],
      "text/plain": [
       " [1] 0.0 0.1 0.2 0.3 0.4 0.5 0.6 0.7 0.8 0.9 1.0"
      ]
     },
     "metadata": {},
     "output_type": "display_data"
    }
   ],
   "source": [
    "quarterlyQuotas <- c()\n",
    "for (i in seq(0, 1, .1)) {\n",
    "    quarterlyQuotas <- c(quarterlyQuotas, i)\n",
    "}\n",
    "quarterlyQuotas"
   ]
  },
  {
   "cell_type": "code",
   "execution_count": 5,
   "id": "84b6a2e5-3fea-46ba-bd4b-d6f0a4e47721",
   "metadata": {},
   "outputs": [
    {
     "data": {
      "image/png": "[encoded data removed]",
      "text/plain": [
       "plot without title"
      ]
     },
     "metadata": {},
     "output_type": "display_data"
    }
   ],
   "source": [
    "plot(quarterlyQuotas, amountsEarned)"
   ]
  },
  {
   "cell_type": "markdown",
   "id": "10b2a33a-c7fb-4ba8-abe1-55cf5741bf32",
   "metadata": {},
   "source": [
    "# Submission\n",
    "\n",
    "When finished, convert your code into a PDF and submit to Gradescope.\n",
    "\n",
    "Note: You can use an R Notebook for your work, but since you have not been taught to use them yet, you can use Jupyter on Rivanna to present your work. Remember to choose the R kernel when starting it."
   ]
  },
  {
   "cell_type": "code",
   "execution_count": null,
   "id": "236ce4fa-f545-4d76-979b-2f5040c57c0f",
   "metadata": {},
   "outputs": [],
   "source": []
  }
 ],
 "metadata": {
  "kernelspec": {
   "display_name": "R",
   "language": "R",
   "name": "ir"
  },
  "language_info": {
   "codemirror_mode": "r",
   "file_extension": ".r",
   "mimetype": "text/x-r-source",
   "name": "R",
   "pygments_lexer": "r",
   "version": "3.6.1"
  },
  "widgets": {
   "application/vnd.jupyter.widget-state+json": {
    "state": {},
    "version_major": 2,
    "version_minor": 0
   }
  }
 },
 "nbformat": 4,
 "nbformat_minor": 5
}
