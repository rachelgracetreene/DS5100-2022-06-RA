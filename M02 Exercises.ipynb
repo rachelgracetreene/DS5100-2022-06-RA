{
 "cells": [
  {
   "cell_type": "markdown",
   "id": "53582e73-f71a-402d-b54a-355e9a1a3976",
   "metadata": {
    "tags": []
   },
   "source": [
    "# M02 Exercises\n",
    "# Pair: Rachel Grace (driver) and Eve Schoenrock (navigator)"
   ]
  },
  {
   "cell_type": "markdown",
   "id": "62c7189d-c46f-4649-98ff-562ede0f3c97",
   "metadata": {},
   "source": [
    "##### Exercise 2.2"
   ]
  },
  {
   "cell_type": "code",
   "execution_count": 10,
   "id": "545de3ae-688b-48f8-81c1-46ae2de47517",
   "metadata": {},
   "outputs": [
    {
     "name": "stdout",
     "output_type": "stream",
     "text": [
      "Eve\n"
     ]
    }
   ],
   "source": [
    "mylist = ['Rachel', 'Eve', 'Josh', 'Matt', 'Davi', 'Conner']\n",
    "print(mylist[1])"
   ]
  },
  {
   "cell_type": "markdown",
   "id": "8ece7ac5-a20e-49c4-b018-bc14677ef3f3",
   "metadata": {},
   "source": [
    "##### Exercise 2.4"
   ]
  },
  {
   "cell_type": "code",
   "execution_count": 11,
   "id": "068fc852-3329-419c-b4ee-cd4f53241c27",
   "metadata": {},
   "outputs": [
    {
     "data": {
      "text/plain": [
       "True"
      ]
     },
     "execution_count": 11,
     "metadata": {},
     "output_type": "execute_result"
    }
   ],
   "source": [
    "mystring = 'hallucinate'\n",
    "myset = {'hi', 'hello', 'hallucinate'}\n",
    "mystring in myset"
   ]
  },
  {
   "cell_type": "markdown",
   "id": "031e7225-fecd-41e4-891b-4e931bbc1102",
   "metadata": {},
   "source": [
    "##### Exercise 2.6"
   ]
  },
  {
   "cell_type": "code",
   "execution_count": 12,
   "id": "7300fe1d-fc89-4e59-8625-ff8a809007ee",
   "metadata": {},
   "outputs": [
    {
     "name": "stdout",
     "output_type": "stream",
     "text": [
      "-5\n",
      "-3\n",
      "-1\n",
      "1\n",
      "3\n"
     ]
    }
   ],
   "source": [
    "for rn in range(-5, 5, 2): # prints from range [-5, 5) jumping by twos\n",
    "    print(rn)"
   ]
  },
  {
   "cell_type": "markdown",
   "id": "fcfb8eea-a6ef-4455-baf6-797ddcdeb1fd",
   "metadata": {},
   "source": [
    "##### Exercise 2.8"
   ]
  },
  {
   "cell_type": "code",
   "execution_count": 13,
   "id": "d63f8838-dfbb-428e-b195-ce8ca9730d95",
   "metadata": {},
   "outputs": [
    {
     "data": {
      "text/plain": [
       "4"
      ]
     },
     "execution_count": 13,
     "metadata": {},
     "output_type": "execute_result"
    }
   ],
   "source": [
    "mylist2 = [1, 2.0, True, 'hi']\n",
    "len(mylist2)"
   ]
  },
  {
   "cell_type": "markdown",
   "id": "1b9388ee-9317-47c5-8ded-16a7576373ad",
   "metadata": {},
   "source": [
    "##### Exercise 2.10"
   ]
  },
  {
   "cell_type": "code",
   "execution_count": 19,
   "id": "7aade74d-3d15-445d-85b8-cd75185514ec",
   "metadata": {},
   "outputs": [
    {
     "name": "stdout",
     "output_type": "stream",
     "text": [
      "False\n"
     ]
    }
   ],
   "source": [
    "x = 3 # assign variable as integer\n",
    "y = 2 # assign variable as integer\n",
    "z = x ** y # arithmetic operation to produce an integer\n",
    "print(z > y and y > x) # logical operation that produces a false result"
   ]
  }
 ],
 "metadata": {
  "kernelspec": {
   "display_name": "Python 3 (ipykernel)",
   "language": "python",
   "name": "python3"
  },
  "language_info": {
   "codemirror_mode": {
    "name": "ipython",
    "version": 3
   },
   "file_extension": ".py",
   "mimetype": "text/x-python",
   "name": "python",
   "nbconvert_exporter": "python",
   "pygments_lexer": "ipython3",
   "version": "3.9.12"
  }
 },
 "nbformat": 4,
 "nbformat_minor": 5
}
