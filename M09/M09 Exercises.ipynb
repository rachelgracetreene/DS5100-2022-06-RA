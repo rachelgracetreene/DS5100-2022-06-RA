{
 "cells": [
  {
   "cell_type": "markdown",
   "id": "18b28600-1d14-4874-9b4f-985a34a9c8d7",
   "metadata": {},
   "source": [
    "# M09 Exercises\n",
    "\n",
    "Rachel Grace | Eve Schoenrock"
   ]
  },
  {
   "cell_type": "markdown",
   "id": "2563be33-b106-4432-b739-cc81a3cb3f5a",
   "metadata": {},
   "source": [
    "### Exercise 9.2"
   ]
  },
  {
   "cell_type": "code",
   "execution_count": 2,
   "id": "4e43bc08-8da0-42d1-abaf-f3647121b66d",
   "metadata": {},
   "outputs": [
    {
     "ename": "AssertionError",
     "evalue": "wrong!",
     "output_type": "error",
     "traceback": [
      "\u001b[1;31m---------------------------------------------------------------------------\u001b[0m",
      "\u001b[1;31mAssertionError\u001b[0m                            Traceback (most recent call last)",
      "Input \u001b[1;32mIn [2]\u001b[0m, in \u001b[0;36m<cell line: 3>\u001b[1;34m()\u001b[0m\n\u001b[0;32m      1\u001b[0m num_args \u001b[38;5;241m=\u001b[39m \u001b[38;5;241m3\u001b[39m\n\u001b[1;32m----> 3\u001b[0m \u001b[38;5;28;01massert\u001b[39;00m num_args \u001b[38;5;241m==\u001b[39m \u001b[38;5;241m4\u001b[39m, \u001b[38;5;124m\"\u001b[39m\u001b[38;5;124mwrong!\u001b[39m\u001b[38;5;124m\"\u001b[39m\n",
      "\u001b[1;31mAssertionError\u001b[0m: wrong!"
     ]
    }
   ],
   "source": [
    "num_args = 3\n",
    "\n",
    "assert num_args == 4, \"wrong!\""
   ]
  },
  {
   "cell_type": "markdown",
   "id": "6cc3f5f6-8350-458a-b0bc-f4e99ca7ca15",
   "metadata": {},
   "source": [
    "Exercises 1 and 3 are in Eve's notebook!"
   ]
  },
  {
   "cell_type": "code",
   "execution_count": null,
   "id": "f6801e84-d041-477f-b161-4a7a46d30126",
   "metadata": {},
   "outputs": [],
   "source": []
  }
 ],
 "metadata": {
  "kernelspec": {
   "display_name": "Python 3 (ipykernel)",
   "language": "python",
   "name": "python3"
  },
  "language_info": {
   "codemirror_mode": {
    "name": "ipython",
    "version": 3
   },
   "file_extension": ".py",
   "mimetype": "text/x-python",
   "name": "python",
   "nbconvert_exporter": "python",
   "pygments_lexer": "ipython3",
   "version": "3.9.12"
  }
 },
 "nbformat": 4,
 "nbformat_minor": 5
}
